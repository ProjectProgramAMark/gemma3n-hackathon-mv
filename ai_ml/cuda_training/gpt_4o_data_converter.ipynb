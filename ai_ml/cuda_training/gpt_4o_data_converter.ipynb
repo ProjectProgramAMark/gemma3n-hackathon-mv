{
 "cells": [
  {
   "cell_type": "code",
   "execution_count": 1,
   "metadata": {},
   "outputs": [],
   "source": [
    "import json\n",
    "\n",
    "# Specify the file paths\n",
    "input_file_path = \"/Users/markmoussa/Downloads/processed_dataset_full.jsonl\"\n",
    "output_file_path = \"/Users/markmoussa/Downloads/gpt_4o_processed_dataset.jsonl\"\n",
    "\n",
    "# Read the input .jsonl file\n",
    "with open(input_file_path, \"r\") as file:\n",
    "    lines = file.readlines()\n",
    "\n",
    "# Convert JSON lines to desired format\n",
    "messages = []\n",
    "for line in lines:\n",
    "    sample = []\n",
    "    data = json.loads(line)\n",
    "    if \"input\" in data and \"output\" in data:\n",
    "        message = {\n",
    "            \"role\": \"system\",\n",
    "            \"content\":f\"Assist a non-verbal autistic individual in communicating their thoughts or needs through selected images.\\nYour task: infer and articulate the message in first-person, using simple, direct language with empathy and clarity.\\n- Be empathetic and direct.\\n- Look for deeper meanings in the input.\\n- Keep the tone practical and straightforward.\"\n",
    "        }\n",
    "        sample.append(message)\n",
    "        \n",
    "        message = {\n",
    "            \"role\": \"user\",\n",
    "            \"content\": data[\"input\"]\n",
    "        }\n",
    "        sample.append(message)\n",
    "        \n",
    "        message = {\n",
    "            \"role\": \"assistant\",\n",
    "            \"content\": data[\"output\"]\n",
    "        }\n",
    "        sample.append(message)\n",
    "\n",
    "    messages.append({\"messages\": sample})\n",
    "\n",
    "# Write the result to the output .jsonl file\n",
    "with open(output_file_path, \"w\") as file:\n",
    "    for message in messages:\n",
    "        file.write(json.dumps(message) + \"\\n\")\n",
    "\n"
   ]
  }
 ],
 "metadata": {
  "kernelspec": {
   "display_name": "mosaic_voice",
   "language": "python",
   "name": "python3"
  },
  "language_info": {
   "codemirror_mode": {
    "name": "ipython",
    "version": 3
   },
   "file_extension": ".py",
   "mimetype": "text/x-python",
   "name": "python",
   "nbconvert_exporter": "python",
   "pygments_lexer": "ipython3",
   "version": "3.11.5"
  }
 },
 "nbformat": 4,
 "nbformat_minor": 2
}
